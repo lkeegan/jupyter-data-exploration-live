{
 "cells": [
  {
   "cell_type": "markdown",
   "id": "34042734-8b8a-4bb6-bdcf-b8a3fd5add2b",
   "metadata": {},
   "source": [
    "### Real data"
   ]
  },
  {
   "cell_type": "code",
   "execution_count": 22,
   "id": "8af8d491-596a-4dab-a4a9-ab7cbad7a746",
   "metadata": {},
   "outputs": [],
   "source": [
    "import pandas as pd\n",
    "import matplotlib.pyplot as plt"
   ]
  },
  {
   "cell_type": "code",
   "execution_count": 23,
   "id": "19451891-7c96-4326-8c35-900d53c96e49",
   "metadata": {},
   "outputs": [],
   "source": [
    "url = \"https://data.london.gov.uk/download/animal-rescue-incidents-attended-by-lfb/01007433-55c2-4b8a-b799-626d9e3bc284/Animal%20Rescue%20incidents%20attended%20by%20LFB%20from%20Jan%202009.csv.xlsx\""
   ]
  },
  {
   "cell_type": "code",
   "execution_count": 24,
   "id": "6ad98a82-cf52-4e3d-946b-0f78dea9c105",
   "metadata": {},
   "outputs": [],
   "source": [
    "df = pd.read_excel(url)"
   ]
  },
  {
   "cell_type": "code",
   "execution_count": 27,
   "id": "8a3681b8-73bd-4814-9d00-33fce31f8b0b",
   "metadata": {},
   "outputs": [
    {
     "data": {
      "text/plain": [
       "IncidentNumber                        object\n",
       "DateTimeOfCall                datetime64[ns]\n",
       "CalYear                                int64\n",
       "FinYear                               object\n",
       "TypeOfIncident                        object\n",
       "PumpCount                            float64\n",
       "PumpHoursTotal                       float64\n",
       "HourlyNotionalCost(£)                  int64\n",
       "IncidentNotionalCost(£)              float64\n",
       "FinalDescription                      object\n",
       "AnimalGroupParent                     object\n",
       "OriginofCall                          object\n",
       "PropertyType                          object\n",
       "PropertyCategory                      object\n",
       "SpecialServiceTypeCategory            object\n",
       "SpecialServiceType                    object\n",
       "WardCode                              object\n",
       "Ward                                  object\n",
       "BoroughCode                           object\n",
       "Borough                               object\n",
       "StnGroundName                         object\n",
       "UPRN                                 float64\n",
       "Street                                object\n",
       "USRN                                 float64\n",
       "PostcodeDistrict                      object\n",
       "Easting_m                            float64\n",
       "Northing_m                           float64\n",
       "Easting_rounded                        int64\n",
       "Northing_rounded                       int64\n",
       "Latitude                             float64\n",
       "Longitude                            float64\n",
       "dtype: object"
      ]
     },
     "execution_count": 27,
     "metadata": {},
     "output_type": "execute_result"
    }
   ],
   "source": [
    "df.dtypes"
   ]
  },
  {
   "cell_type": "code",
   "execution_count": null,
   "id": "b440a4a3-6aa4-4e97-b8b5-24564b40df33",
   "metadata": {},
   "outputs": [],
   "source": []
  }
 ],
 "metadata": {
  "kernelspec": {
   "display_name": "Python 3 (ipykernel)",
   "language": "python",
   "name": "python3"
  },
  "language_info": {
   "codemirror_mode": {
    "name": "ipython",
    "version": 3
   },
   "file_extension": ".py",
   "mimetype": "text/x-python",
   "name": "python",
   "nbconvert_exporter": "python",
   "pygments_lexer": "ipython3",
   "version": "3.13.1"
  }
 },
 "nbformat": 4,
 "nbformat_minor": 5
}
