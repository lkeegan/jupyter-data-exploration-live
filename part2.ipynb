{
 "cells": [
  {
   "cell_type": "markdown",
   "id": "c984d06e-5c3d-47cf-b008-35ccd0f170c3",
   "metadata": {},
   "source": [
    "# Toy data"
   ]
  },
  {
   "cell_type": "code",
   "execution_count": 1,
   "id": "4e897aef-06bf-448a-b5e3-55b0dfcdc1d7",
   "metadata": {},
   "outputs": [],
   "source": [
    "import pandas as pd"
   ]
  },
  {
   "cell_type": "code",
   "execution_count": 2,
   "id": "828025b5-6638-4d15-89d4-40187ae46015",
   "metadata": {},
   "outputs": [],
   "source": [
    "df = pd.read_csv(\"https://ssciwr.github.io/jupyter-data-exploration/data.csv\")"
   ]
  },
  {
   "cell_type": "code",
   "execution_count": 3,
   "id": "c6b6e91c-7e4c-4f8c-ba7f-a989081f66ea",
   "metadata": {},
   "outputs": [
    {
     "data": {
      "text/plain": [
       "pandas.core.frame.DataFrame"
      ]
     },
     "execution_count": 3,
     "metadata": {},
     "output_type": "execute_result"
    }
   ],
   "source": [
    "type(df)"
   ]
  },
  {
   "cell_type": "code",
   "execution_count": 4,
   "id": "08f62a46-3018-45fd-b3df-83020905641a",
   "metadata": {},
   "outputs": [
    {
     "data": {
      "text/plain": [
       "20"
      ]
     },
     "execution_count": 4,
     "metadata": {},
     "output_type": "execute_result"
    }
   ],
   "source": [
    "len(df)"
   ]
  },
  {
   "cell_type": "code",
   "execution_count": 5,
   "id": "33b197ea-7824-4cb6-8e79-63c4aa21ca2a",
   "metadata": {},
   "outputs": [
    {
     "data": {
      "text/html": [
       "<div>\n",
       "<style scoped>\n",
       "    .dataframe tbody tr th:only-of-type {\n",
       "        vertical-align: middle;\n",
       "    }\n",
       "\n",
       "    .dataframe tbody tr th {\n",
       "        vertical-align: top;\n",
       "    }\n",
       "\n",
       "    .dataframe thead th {\n",
       "        text-align: right;\n",
       "    }\n",
       "</style>\n",
       "<table border=\"1\" class=\"dataframe\">\n",
       "  <thead>\n",
       "    <tr style=\"text-align: right;\">\n",
       "      <th></th>\n",
       "      <th>Name</th>\n",
       "      <th>Age</th>\n",
       "      <th>Sex</th>\n",
       "      <th>Height</th>\n",
       "      <th>Eye colour</th>\n",
       "      <th>Wears glasses</th>\n",
       "    </tr>\n",
       "  </thead>\n",
       "  <tbody>\n",
       "    <tr>\n",
       "      <th>0</th>\n",
       "      <td>Bob</td>\n",
       "      <td>12</td>\n",
       "      <td>Male</td>\n",
       "      <td>130.0</td>\n",
       "      <td>blue</td>\n",
       "      <td>yes</td>\n",
       "    </tr>\n",
       "    <tr>\n",
       "      <th>1</th>\n",
       "      <td>Simon</td>\n",
       "      <td>13</td>\n",
       "      <td>Male</td>\n",
       "      <td>120.0</td>\n",
       "      <td>blue</td>\n",
       "      <td>no</td>\n",
       "    </tr>\n",
       "    <tr>\n",
       "      <th>2</th>\n",
       "      <td>Clare</td>\n",
       "      <td>15</td>\n",
       "      <td>Female</td>\n",
       "      <td>142.5</td>\n",
       "      <td>green</td>\n",
       "      <td>no</td>\n",
       "    </tr>\n",
       "    <tr>\n",
       "      <th>3</th>\n",
       "      <td>Jose</td>\n",
       "      <td>11</td>\n",
       "      <td>Male</td>\n",
       "      <td>117.0</td>\n",
       "      <td>brown</td>\n",
       "      <td>no</td>\n",
       "    </tr>\n",
       "    <tr>\n",
       "      <th>4</th>\n",
       "      <td>Hannah</td>\n",
       "      <td>9</td>\n",
       "      <td>Female</td>\n",
       "      <td>111.0</td>\n",
       "      <td>blue</td>\n",
       "      <td>yes</td>\n",
       "    </tr>\n",
       "  </tbody>\n",
       "</table>\n",
       "</div>"
      ],
      "text/plain": [
       "     Name  Age     Sex  Height Eye colour Wears glasses\n",
       "0     Bob   12    Male   130.0       blue           yes\n",
       "1   Simon   13    Male   120.0       blue            no\n",
       "2   Clare   15  Female   142.5      green            no\n",
       "3    Jose   11    Male   117.0      brown            no\n",
       "4  Hannah    9  Female   111.0       blue           yes"
      ]
     },
     "execution_count": 5,
     "metadata": {},
     "output_type": "execute_result"
    }
   ],
   "source": [
    "df.head()"
   ]
  },
  {
   "cell_type": "code",
   "execution_count": 7,
   "id": "8b89bfa6-679c-47bd-8a47-ac475d6058de",
   "metadata": {},
   "outputs": [
    {
     "name": "stdout",
     "output_type": "stream",
     "text": [
      "<class 'pandas.core.frame.DataFrame'>\n",
      "RangeIndex: 20 entries, 0 to 19\n",
      "Data columns (total 6 columns):\n",
      " #   Column         Non-Null Count  Dtype  \n",
      "---  ------         --------------  -----  \n",
      " 0   Name           20 non-null     object \n",
      " 1   Age            20 non-null     int64  \n",
      " 2   Sex            20 non-null     object \n",
      " 3   Height         20 non-null     float64\n",
      " 4   Eye colour     20 non-null     object \n",
      " 5   Wears glasses  20 non-null     object \n",
      "dtypes: float64(1), int64(1), object(4)\n",
      "memory usage: 1.1+ KB\n"
     ]
    }
   ],
   "source": [
    "df.info()"
   ]
  },
  {
   "cell_type": "code",
   "execution_count": 8,
   "id": "db6184e4-0c6d-499a-8616-f1f8b19dd0cb",
   "metadata": {},
   "outputs": [],
   "source": [
    "names = df[\"Name\"]"
   ]
  },
  {
   "cell_type": "code",
   "execution_count": 9,
   "id": "af262e1a-35a7-4c9a-afc6-1000fcf4146b",
   "metadata": {},
   "outputs": [
    {
     "data": {
      "text/plain": [
       "pandas.core.series.Series"
      ]
     },
     "execution_count": 9,
     "metadata": {},
     "output_type": "execute_result"
    }
   ],
   "source": [
    "type(names)"
   ]
  },
  {
   "cell_type": "code",
   "execution_count": 10,
   "id": "e66d933e-8c07-47c5-8c3a-c0717f361a12",
   "metadata": {},
   "outputs": [
    {
     "data": {
      "text/plain": [
       "0       Bob\n",
       "1     Simon\n",
       "2     Clare\n",
       "3      Jose\n",
       "4    Hannah\n",
       "Name: Name, dtype: object"
      ]
     },
     "execution_count": 10,
     "metadata": {},
     "output_type": "execute_result"
    }
   ],
   "source": [
    "names.head()"
   ]
  },
  {
   "cell_type": "code",
   "execution_count": 11,
   "id": "7268ec11-20cc-408a-b828-e570ef346a30",
   "metadata": {},
   "outputs": [
    {
     "data": {
      "text/plain": [
       "'Bob'"
      ]
     },
     "execution_count": 11,
     "metadata": {},
     "output_type": "execute_result"
    }
   ],
   "source": [
    "names[0]"
   ]
  },
  {
   "cell_type": "code",
   "execution_count": 12,
   "id": "1b9c86cb-7e62-438c-8f4a-af03d2eb0eca",
   "metadata": {},
   "outputs": [
    {
     "data": {
      "text/plain": [
       "0      Bob\n",
       "1    Simon\n",
       "2    Clare\n",
       "Name: Name, dtype: object"
      ]
     },
     "execution_count": 12,
     "metadata": {},
     "output_type": "execute_result"
    }
   ],
   "source": [
    "names[0:3]"
   ]
  },
  {
   "cell_type": "code",
   "execution_count": 13,
   "id": "670ee389-a10c-4451-b4d8-2ebf0791bf20",
   "metadata": {},
   "outputs": [
    {
     "name": "stdout",
     "output_type": "stream",
     "text": [
      "Bob\n",
      "Simon\n",
      "Clare\n",
      "Jose\n",
      "Hannah\n",
      "Ryan\n",
      "Craig\n",
      "Suzy\n",
      "Chris\n",
      "Josie\n",
      "Claire\n",
      "John\n",
      "Agnes\n",
      "Robert\n",
      "Julia\n",
      "Fabian\n",
      "Joseph\n",
      "Roberta\n",
      "Chris\n",
      "Lucas\n"
     ]
    }
   ],
   "source": [
    "for name in names:\n",
    "    print(name)"
   ]
  },
  {
   "cell_type": "code",
   "execution_count": 14,
   "id": "06af99ed-c021-4a3f-81a7-13ce55c34e6e",
   "metadata": {},
   "outputs": [],
   "source": [
    "ages = df.Age"
   ]
  },
  {
   "cell_type": "code",
   "execution_count": 15,
   "id": "b11029e9-14ec-4f34-8247-73cc9b6f541f",
   "metadata": {},
   "outputs": [
    {
     "data": {
      "text/plain": [
       "0    12\n",
       "1    13\n",
       "2    15\n",
       "3    11\n",
       "4     9\n",
       "Name: Age, dtype: int64"
      ]
     },
     "execution_count": 15,
     "metadata": {},
     "output_type": "execute_result"
    }
   ],
   "source": [
    "ages.head()"
   ]
  },
  {
   "cell_type": "code",
   "execution_count": 16,
   "id": "4e95859e-5ae0-4257-b6b3-b1863dc75281",
   "metadata": {},
   "outputs": [
    {
     "data": {
      "text/plain": [
       "Name               Bob\n",
       "Age                 12\n",
       "Sex               Male\n",
       "Height           130.0\n",
       "Eye colour        blue\n",
       "Wears glasses      yes\n",
       "Name: 0, dtype: object"
      ]
     },
     "execution_count": 16,
     "metadata": {},
     "output_type": "execute_result"
    }
   ],
   "source": [
    "df.iloc[0]"
   ]
  },
  {
   "cell_type": "code",
   "execution_count": 17,
   "id": "e9ef2e14-596e-48fc-b8c2-9f05b69a14bd",
   "metadata": {},
   "outputs": [
    {
     "data": {
      "text/plain": [
       "Name               Bob\n",
       "Age                 12\n",
       "Sex               Male\n",
       "Height           130.0\n",
       "Eye colour        blue\n",
       "Wears glasses      yes\n",
       "Name: 0, dtype: object"
      ]
     },
     "execution_count": 17,
     "metadata": {},
     "output_type": "execute_result"
    }
   ],
   "source": [
    "df.iloc[0,:]"
   ]
  },
  {
   "cell_type": "code",
   "execution_count": 19,
   "id": "c62c83b4-1008-4ba8-afd7-65b3fc884b24",
   "metadata": {},
   "outputs": [
    {
     "data": {
      "text/plain": [
       "0         Bob\n",
       "1       Simon\n",
       "2       Clare\n",
       "3        Jose\n",
       "4      Hannah\n",
       "5        Ryan\n",
       "6       Craig\n",
       "7        Suzy\n",
       "8       Chris\n",
       "9       Josie\n",
       "10     Claire\n",
       "11       John\n",
       "12      Agnes\n",
       "13     Robert\n",
       "14      Julia\n",
       "15     Fabian\n",
       "16     Joseph\n",
       "17    Roberta\n",
       "18      Chris\n",
       "19      Lucas\n",
       "Name: Name, dtype: object"
      ]
     },
     "execution_count": 19,
     "metadata": {},
     "output_type": "execute_result"
    }
   ],
   "source": [
    "# first column:\n",
    "df.iloc[:,0]"
   ]
  },
  {
   "cell_type": "code",
   "execution_count": 20,
   "id": "15613356-ec32-4e82-b3b6-6b78fbb10c8e",
   "metadata": {},
   "outputs": [
    {
     "data": {
      "text/html": [
       "<div>\n",
       "<style scoped>\n",
       "    .dataframe tbody tr th:only-of-type {\n",
       "        vertical-align: middle;\n",
       "    }\n",
       "\n",
       "    .dataframe tbody tr th {\n",
       "        vertical-align: top;\n",
       "    }\n",
       "\n",
       "    .dataframe thead th {\n",
       "        text-align: right;\n",
       "    }\n",
       "</style>\n",
       "<table border=\"1\" class=\"dataframe\">\n",
       "  <thead>\n",
       "    <tr style=\"text-align: right;\">\n",
       "      <th></th>\n",
       "      <th>Name</th>\n",
       "      <th>Age</th>\n",
       "    </tr>\n",
       "  </thead>\n",
       "  <tbody>\n",
       "    <tr>\n",
       "      <th>2</th>\n",
       "      <td>Clare</td>\n",
       "      <td>15</td>\n",
       "    </tr>\n",
       "    <tr>\n",
       "      <th>3</th>\n",
       "      <td>Jose</td>\n",
       "      <td>11</td>\n",
       "    </tr>\n",
       "    <tr>\n",
       "      <th>4</th>\n",
       "      <td>Hannah</td>\n",
       "      <td>9</td>\n",
       "    </tr>\n",
       "  </tbody>\n",
       "</table>\n",
       "</div>"
      ],
      "text/plain": [
       "     Name  Age\n",
       "2   Clare   15\n",
       "3    Jose   11\n",
       "4  Hannah    9"
      ]
     },
     "execution_count": 20,
     "metadata": {},
     "output_type": "execute_result"
    }
   ],
   "source": [
    "df.iloc[2:5,0:2]"
   ]
  },
  {
   "cell_type": "code",
   "execution_count": 21,
   "id": "d7726d3b-457e-427b-ac4d-0a26a6829d00",
   "metadata": {},
   "outputs": [
    {
     "data": {
      "text/html": [
       "<div>\n",
       "<style scoped>\n",
       "    .dataframe tbody tr th:only-of-type {\n",
       "        vertical-align: middle;\n",
       "    }\n",
       "\n",
       "    .dataframe tbody tr th {\n",
       "        vertical-align: top;\n",
       "    }\n",
       "\n",
       "    .dataframe thead th {\n",
       "        text-align: right;\n",
       "    }\n",
       "</style>\n",
       "<table border=\"1\" class=\"dataframe\">\n",
       "  <thead>\n",
       "    <tr style=\"text-align: right;\">\n",
       "      <th></th>\n",
       "      <th>Name</th>\n",
       "      <th>Eye colour</th>\n",
       "    </tr>\n",
       "  </thead>\n",
       "  <tbody>\n",
       "    <tr>\n",
       "      <th>2</th>\n",
       "      <td>Clare</td>\n",
       "      <td>green</td>\n",
       "    </tr>\n",
       "    <tr>\n",
       "      <th>3</th>\n",
       "      <td>Jose</td>\n",
       "      <td>brown</td>\n",
       "    </tr>\n",
       "    <tr>\n",
       "      <th>4</th>\n",
       "      <td>Hannah</td>\n",
       "      <td>blue</td>\n",
       "    </tr>\n",
       "  </tbody>\n",
       "</table>\n",
       "</div>"
      ],
      "text/plain": [
       "     Name Eye colour\n",
       "2   Clare      green\n",
       "3    Jose      brown\n",
       "4  Hannah       blue"
      ]
     },
     "execution_count": 21,
     "metadata": {},
     "output_type": "execute_result"
    }
   ],
   "source": [
    "df.iloc[[2,3,4],[0,4]]"
   ]
  },
  {
   "cell_type": "code",
   "execution_count": 22,
   "id": "1ef7635a-ad00-4b3f-b286-bfb70eeb6829",
   "metadata": {},
   "outputs": [
    {
     "data": {
      "text/plain": [
       "Name               Bob\n",
       "Age                 12\n",
       "Sex               Male\n",
       "Height           130.0\n",
       "Eye colour        blue\n",
       "Wears glasses      yes\n",
       "Name: 0, dtype: object"
      ]
     },
     "execution_count": 22,
     "metadata": {},
     "output_type": "execute_result"
    }
   ],
   "source": [
    "df.loc[0]"
   ]
  },
  {
   "cell_type": "code",
   "execution_count": 23,
   "id": "59df8755-0c5d-4ae9-98b0-840878afeaf8",
   "metadata": {},
   "outputs": [
    {
     "data": {
      "text/plain": [
       "Name               Bob\n",
       "Age                 12\n",
       "Sex               Male\n",
       "Height           130.0\n",
       "Eye colour        blue\n",
       "Wears glasses      yes\n",
       "Name: 0, dtype: object"
      ]
     },
     "execution_count": 23,
     "metadata": {},
     "output_type": "execute_result"
    }
   ],
   "source": [
    "df.loc[0,:]"
   ]
  },
  {
   "cell_type": "code",
   "execution_count": 24,
   "id": "08407bbf-1605-484e-82ee-7e5961b044c9",
   "metadata": {},
   "outputs": [
    {
     "data": {
      "text/plain": [
       "0         Bob\n",
       "1       Simon\n",
       "2       Clare\n",
       "3        Jose\n",
       "4      Hannah\n",
       "5        Ryan\n",
       "6       Craig\n",
       "7        Suzy\n",
       "8       Chris\n",
       "9       Josie\n",
       "10     Claire\n",
       "11       John\n",
       "12      Agnes\n",
       "13     Robert\n",
       "14      Julia\n",
       "15     Fabian\n",
       "16     Joseph\n",
       "17    Roberta\n",
       "18      Chris\n",
       "19      Lucas\n",
       "Name: Name, dtype: object"
      ]
     },
     "execution_count": 24,
     "metadata": {},
     "output_type": "execute_result"
    }
   ],
   "source": [
    "df.loc[:,\"Name\"]"
   ]
  },
  {
   "cell_type": "code",
   "execution_count": 25,
   "id": "72636e01-2a5f-4514-89c3-b7ce70031b22",
   "metadata": {},
   "outputs": [
    {
     "data": {
      "text/html": [
       "<div>\n",
       "<style scoped>\n",
       "    .dataframe tbody tr th:only-of-type {\n",
       "        vertical-align: middle;\n",
       "    }\n",
       "\n",
       "    .dataframe tbody tr th {\n",
       "        vertical-align: top;\n",
       "    }\n",
       "\n",
       "    .dataframe thead th {\n",
       "        text-align: right;\n",
       "    }\n",
       "</style>\n",
       "<table border=\"1\" class=\"dataframe\">\n",
       "  <thead>\n",
       "    <tr style=\"text-align: right;\">\n",
       "      <th></th>\n",
       "      <th>Name</th>\n",
       "      <th>Age</th>\n",
       "    </tr>\n",
       "  </thead>\n",
       "  <tbody>\n",
       "    <tr>\n",
       "      <th>0</th>\n",
       "      <td>Bob</td>\n",
       "      <td>12</td>\n",
       "    </tr>\n",
       "    <tr>\n",
       "      <th>1</th>\n",
       "      <td>Simon</td>\n",
       "      <td>13</td>\n",
       "    </tr>\n",
       "    <tr>\n",
       "      <th>3</th>\n",
       "      <td>Jose</td>\n",
       "      <td>11</td>\n",
       "    </tr>\n",
       "  </tbody>\n",
       "</table>\n",
       "</div>"
      ],
      "text/plain": [
       "    Name  Age\n",
       "0    Bob   12\n",
       "1  Simon   13\n",
       "3   Jose   11"
      ]
     },
     "execution_count": 25,
     "metadata": {},
     "output_type": "execute_result"
    }
   ],
   "source": [
    "df.loc[[0,1,3], [\"Name\", \"Age\"]]"
   ]
  },
  {
   "cell_type": "code",
   "execution_count": 26,
   "id": "c6dbb824-9dd4-460f-b456-6e1c11ac2de8",
   "metadata": {},
   "outputs": [
    {
     "data": {
      "text/plain": [
       "True"
      ]
     },
     "execution_count": 26,
     "metadata": {},
     "output_type": "execute_result"
    }
   ],
   "source": [
    "8 > 5"
   ]
  },
  {
   "cell_type": "code",
   "execution_count": 27,
   "id": "3dc14849-8eea-42d1-b483-ec2e798ac326",
   "metadata": {},
   "outputs": [
    {
     "data": {
      "text/plain": [
       "False"
      ]
     },
     "execution_count": 27,
     "metadata": {},
     "output_type": "execute_result"
    }
   ],
   "source": [
    "5 > 8"
   ]
  },
  {
   "cell_type": "code",
   "execution_count": 28,
   "id": "2fdf0047-6181-41ff-81ca-bd82e3ae5330",
   "metadata": {},
   "outputs": [
    {
     "data": {
      "text/plain": [
       "0      True\n",
       "1      True\n",
       "2      True\n",
       "3      True\n",
       "4     False\n",
       "5      True\n",
       "6      True\n",
       "7      True\n",
       "8      True\n",
       "9     False\n",
       "10     True\n",
       "11    False\n",
       "12    False\n",
       "13    False\n",
       "14    False\n",
       "15    False\n",
       "16    False\n",
       "17     True\n",
       "18    False\n",
       "19    False\n",
       "Name: Age, dtype: bool"
      ]
     },
     "execution_count": 28,
     "metadata": {},
     "output_type": "execute_result"
    }
   ],
   "source": [
    "df.Age > 9"
   ]
  },
  {
   "cell_type": "code",
   "execution_count": 29,
   "id": "adc9552f-fb43-4361-9203-60a9d70dc822",
   "metadata": {},
   "outputs": [
    {
     "data": {
      "text/html": [
       "<div>\n",
       "<style scoped>\n",
       "    .dataframe tbody tr th:only-of-type {\n",
       "        vertical-align: middle;\n",
       "    }\n",
       "\n",
       "    .dataframe tbody tr th {\n",
       "        vertical-align: top;\n",
       "    }\n",
       "\n",
       "    .dataframe thead th {\n",
       "        text-align: right;\n",
       "    }\n",
       "</style>\n",
       "<table border=\"1\" class=\"dataframe\">\n",
       "  <thead>\n",
       "    <tr style=\"text-align: right;\">\n",
       "      <th></th>\n",
       "      <th>Name</th>\n",
       "      <th>Age</th>\n",
       "      <th>Sex</th>\n",
       "      <th>Height</th>\n",
       "      <th>Eye colour</th>\n",
       "      <th>Wears glasses</th>\n",
       "    </tr>\n",
       "  </thead>\n",
       "  <tbody>\n",
       "    <tr>\n",
       "      <th>0</th>\n",
       "      <td>Bob</td>\n",
       "      <td>12</td>\n",
       "      <td>Male</td>\n",
       "      <td>130.0</td>\n",
       "      <td>blue</td>\n",
       "      <td>yes</td>\n",
       "    </tr>\n",
       "    <tr>\n",
       "      <th>1</th>\n",
       "      <td>Simon</td>\n",
       "      <td>13</td>\n",
       "      <td>Male</td>\n",
       "      <td>120.0</td>\n",
       "      <td>blue</td>\n",
       "      <td>no</td>\n",
       "    </tr>\n",
       "    <tr>\n",
       "      <th>2</th>\n",
       "      <td>Clare</td>\n",
       "      <td>15</td>\n",
       "      <td>Female</td>\n",
       "      <td>142.5</td>\n",
       "      <td>green</td>\n",
       "      <td>no</td>\n",
       "    </tr>\n",
       "    <tr>\n",
       "      <th>3</th>\n",
       "      <td>Jose</td>\n",
       "      <td>11</td>\n",
       "      <td>Male</td>\n",
       "      <td>117.0</td>\n",
       "      <td>brown</td>\n",
       "      <td>no</td>\n",
       "    </tr>\n",
       "    <tr>\n",
       "      <th>5</th>\n",
       "      <td>Ryan</td>\n",
       "      <td>11</td>\n",
       "      <td>Male</td>\n",
       "      <td>124.0</td>\n",
       "      <td>brown</td>\n",
       "      <td>no</td>\n",
       "    </tr>\n",
       "    <tr>\n",
       "      <th>6</th>\n",
       "      <td>Craig</td>\n",
       "      <td>12</td>\n",
       "      <td>Male</td>\n",
       "      <td>124.0</td>\n",
       "      <td>brown</td>\n",
       "      <td>no</td>\n",
       "    </tr>\n",
       "    <tr>\n",
       "      <th>7</th>\n",
       "      <td>Suzy</td>\n",
       "      <td>14</td>\n",
       "      <td>Female</td>\n",
       "      <td>137.0</td>\n",
       "      <td>grey</td>\n",
       "      <td>yes</td>\n",
       "    </tr>\n",
       "    <tr>\n",
       "      <th>8</th>\n",
       "      <td>Chris</td>\n",
       "      <td>10</td>\n",
       "      <td>Male</td>\n",
       "      <td>112.5</td>\n",
       "      <td>brown</td>\n",
       "      <td>no</td>\n",
       "    </tr>\n",
       "    <tr>\n",
       "      <th>10</th>\n",
       "      <td>Claire</td>\n",
       "      <td>16</td>\n",
       "      <td>Female</td>\n",
       "      <td>158.0</td>\n",
       "      <td>blue</td>\n",
       "      <td>no</td>\n",
       "    </tr>\n",
       "    <tr>\n",
       "      <th>17</th>\n",
       "      <td>Roberta</td>\n",
       "      <td>11</td>\n",
       "      <td>Female</td>\n",
       "      <td>121.0</td>\n",
       "      <td>grey</td>\n",
       "      <td>no</td>\n",
       "    </tr>\n",
       "  </tbody>\n",
       "</table>\n",
       "</div>"
      ],
      "text/plain": [
       "       Name  Age     Sex  Height Eye colour Wears glasses\n",
       "0       Bob   12    Male   130.0       blue           yes\n",
       "1     Simon   13    Male   120.0       blue            no\n",
       "2     Clare   15  Female   142.5      green            no\n",
       "3      Jose   11    Male   117.0      brown            no\n",
       "5      Ryan   11    Male   124.0      brown            no\n",
       "6     Craig   12    Male   124.0      brown            no\n",
       "7      Suzy   14  Female   137.0       grey           yes\n",
       "8     Chris   10    Male   112.5      brown            no\n",
       "10   Claire   16  Female   158.0       blue            no\n",
       "17  Roberta   11  Female   121.0       grey            no"
      ]
     },
     "execution_count": 29,
     "metadata": {},
     "output_type": "execute_result"
    }
   ],
   "source": [
    "df.loc[df.Age > 9]"
   ]
  },
  {
   "cell_type": "code",
   "execution_count": 30,
   "id": "17112840-8210-4448-b377-505b454a8162",
   "metadata": {},
   "outputs": [
    {
     "data": {
      "text/html": [
       "<div>\n",
       "<style scoped>\n",
       "    .dataframe tbody tr th:only-of-type {\n",
       "        vertical-align: middle;\n",
       "    }\n",
       "\n",
       "    .dataframe tbody tr th {\n",
       "        vertical-align: top;\n",
       "    }\n",
       "\n",
       "    .dataframe thead th {\n",
       "        text-align: right;\n",
       "    }\n",
       "</style>\n",
       "<table border=\"1\" class=\"dataframe\">\n",
       "  <thead>\n",
       "    <tr style=\"text-align: right;\">\n",
       "      <th></th>\n",
       "      <th>Name</th>\n",
       "      <th>Age</th>\n",
       "      <th>Sex</th>\n",
       "      <th>Height</th>\n",
       "      <th>Eye colour</th>\n",
       "      <th>Wears glasses</th>\n",
       "    </tr>\n",
       "  </thead>\n",
       "  <tbody>\n",
       "    <tr>\n",
       "      <th>0</th>\n",
       "      <td>Bob</td>\n",
       "      <td>12</td>\n",
       "      <td>Male</td>\n",
       "      <td>130.0</td>\n",
       "      <td>blue</td>\n",
       "      <td>yes</td>\n",
       "    </tr>\n",
       "    <tr>\n",
       "      <th>1</th>\n",
       "      <td>Simon</td>\n",
       "      <td>13</td>\n",
       "      <td>Male</td>\n",
       "      <td>120.0</td>\n",
       "      <td>blue</td>\n",
       "      <td>no</td>\n",
       "    </tr>\n",
       "    <tr>\n",
       "      <th>10</th>\n",
       "      <td>Claire</td>\n",
       "      <td>16</td>\n",
       "      <td>Female</td>\n",
       "      <td>158.0</td>\n",
       "      <td>blue</td>\n",
       "      <td>no</td>\n",
       "    </tr>\n",
       "  </tbody>\n",
       "</table>\n",
       "</div>"
      ],
      "text/plain": [
       "      Name  Age     Sex  Height Eye colour Wears glasses\n",
       "0      Bob   12    Male   130.0       blue           yes\n",
       "1    Simon   13    Male   120.0       blue            no\n",
       "10  Claire   16  Female   158.0       blue            no"
      ]
     },
     "execution_count": 30,
     "metadata": {},
     "output_type": "execute_result"
    }
   ],
   "source": [
    "df.loc[(df.Age > 9) & (df[\"Eye colour\"] == \"blue\")]"
   ]
  },
  {
   "cell_type": "code",
   "execution_count": 31,
   "id": "683c7d70-53e7-4df9-85c9-8b7662f91e29",
   "metadata": {},
   "outputs": [
    {
     "data": {
      "text/html": [
       "<div>\n",
       "<style scoped>\n",
       "    .dataframe tbody tr th:only-of-type {\n",
       "        vertical-align: middle;\n",
       "    }\n",
       "\n",
       "    .dataframe tbody tr th {\n",
       "        vertical-align: top;\n",
       "    }\n",
       "\n",
       "    .dataframe thead th {\n",
       "        text-align: right;\n",
       "    }\n",
       "</style>\n",
       "<table border=\"1\" class=\"dataframe\">\n",
       "  <thead>\n",
       "    <tr style=\"text-align: right;\">\n",
       "      <th></th>\n",
       "      <th>Name</th>\n",
       "      <th>Age</th>\n",
       "      <th>Sex</th>\n",
       "      <th>Height</th>\n",
       "      <th>Eye colour</th>\n",
       "      <th>Wears glasses</th>\n",
       "    </tr>\n",
       "  </thead>\n",
       "  <tbody>\n",
       "    <tr>\n",
       "      <th>0</th>\n",
       "      <td>Bob</td>\n",
       "      <td>12</td>\n",
       "      <td>Male</td>\n",
       "      <td>130.0</td>\n",
       "      <td>blue</td>\n",
       "      <td>yes</td>\n",
       "    </tr>\n",
       "    <tr>\n",
       "      <th>4</th>\n",
       "      <td>Hannah</td>\n",
       "      <td>9</td>\n",
       "      <td>Female</td>\n",
       "      <td>111.0</td>\n",
       "      <td>blue</td>\n",
       "      <td>yes</td>\n",
       "    </tr>\n",
       "    <tr>\n",
       "      <th>7</th>\n",
       "      <td>Suzy</td>\n",
       "      <td>14</td>\n",
       "      <td>Female</td>\n",
       "      <td>137.0</td>\n",
       "      <td>grey</td>\n",
       "      <td>yes</td>\n",
       "    </tr>\n",
       "    <tr>\n",
       "      <th>11</th>\n",
       "      <td>John</td>\n",
       "      <td>5</td>\n",
       "      <td>Male</td>\n",
       "      <td>97.0</td>\n",
       "      <td>grey</td>\n",
       "      <td>no</td>\n",
       "    </tr>\n",
       "    <tr>\n",
       "      <th>12</th>\n",
       "      <td>Agnes</td>\n",
       "      <td>6</td>\n",
       "      <td>Female</td>\n",
       "      <td>98.0</td>\n",
       "      <td>blue</td>\n",
       "      <td>yes</td>\n",
       "    </tr>\n",
       "    <tr>\n",
       "      <th>14</th>\n",
       "      <td>Julia</td>\n",
       "      <td>3</td>\n",
       "      <td>Female</td>\n",
       "      <td>63.0</td>\n",
       "      <td>blue</td>\n",
       "      <td>no</td>\n",
       "    </tr>\n",
       "    <tr>\n",
       "      <th>15</th>\n",
       "      <td>Fabian</td>\n",
       "      <td>5</td>\n",
       "      <td>Male</td>\n",
       "      <td>101.0</td>\n",
       "      <td>blue</td>\n",
       "      <td>no</td>\n",
       "    </tr>\n",
       "    <tr>\n",
       "      <th>16</th>\n",
       "      <td>Joseph</td>\n",
       "      <td>8</td>\n",
       "      <td>Male</td>\n",
       "      <td>107.0</td>\n",
       "      <td>brown</td>\n",
       "      <td>yes</td>\n",
       "    </tr>\n",
       "    <tr>\n",
       "      <th>19</th>\n",
       "      <td>Lucas</td>\n",
       "      <td>2</td>\n",
       "      <td>Male</td>\n",
       "      <td>59.0</td>\n",
       "      <td>blue</td>\n",
       "      <td>no</td>\n",
       "    </tr>\n",
       "  </tbody>\n",
       "</table>\n",
       "</div>"
      ],
      "text/plain": [
       "      Name  Age     Sex  Height Eye colour Wears glasses\n",
       "0      Bob   12    Male   130.0       blue           yes\n",
       "4   Hannah    9  Female   111.0       blue           yes\n",
       "7     Suzy   14  Female   137.0       grey           yes\n",
       "11    John    5    Male    97.0       grey            no\n",
       "12   Agnes    6  Female    98.0       blue           yes\n",
       "14   Julia    3  Female    63.0       blue            no\n",
       "15  Fabian    5    Male   101.0       blue            no\n",
       "16  Joseph    8    Male   107.0      brown           yes\n",
       "19   Lucas    2    Male    59.0       blue            no"
      ]
     },
     "execution_count": 31,
     "metadata": {},
     "output_type": "execute_result"
    }
   ],
   "source": [
    "df.loc[(df.Age < 7) | (df[\"Wears glasses\"]==\"yes\")]"
   ]
  },
  {
   "cell_type": "code",
   "execution_count": 32,
   "id": "1f30e530-592b-4df9-ab82-d115cb6f9f6b",
   "metadata": {},
   "outputs": [
    {
     "data": {
      "text/plain": [
       "count       20\n",
       "unique       4\n",
       "top       blue\n",
       "freq         8\n",
       "Name: Eye colour, dtype: object"
      ]
     },
     "execution_count": 32,
     "metadata": {},
     "output_type": "execute_result"
    }
   ],
   "source": [
    "df[\"Eye colour\"].describe()"
   ]
  },
  {
   "cell_type": "code",
   "execution_count": 33,
   "id": "78b7cff6-2e89-44bd-890a-92e92110e556",
   "metadata": {},
   "outputs": [
    {
     "data": {
      "text/plain": [
       "np.int64(20)"
      ]
     },
     "execution_count": 33,
     "metadata": {},
     "output_type": "execute_result"
    }
   ],
   "source": [
    "df[\"Eye colour\"].count()"
   ]
  },
  {
   "cell_type": "code",
   "execution_count": 34,
   "id": "a0d1ef78-c5a5-46e5-b0dd-a0a1551d87c3",
   "metadata": {},
   "outputs": [
    {
     "data": {
      "text/plain": [
       "array(['blue', 'green', 'brown', 'grey'], dtype=object)"
      ]
     },
     "execution_count": 34,
     "metadata": {},
     "output_type": "execute_result"
    }
   ],
   "source": [
    "df[\"Eye colour\"].unique()"
   ]
  },
  {
   "cell_type": "code",
   "execution_count": 35,
   "id": "fbec4594-b157-49c0-9474-66bf11cd6247",
   "metadata": {},
   "outputs": [
    {
     "data": {
      "text/plain": [
       "Eye colour\n",
       "blue     8\n",
       "brown    8\n",
       "grey     3\n",
       "green    1\n",
       "Name: count, dtype: int64"
      ]
     },
     "execution_count": 35,
     "metadata": {},
     "output_type": "execute_result"
    }
   ],
   "source": [
    "df[\"Eye colour\"].value_counts()"
   ]
  },
  {
   "cell_type": "code",
   "execution_count": 36,
   "id": "78d775c0-5057-4ccf-bdaf-c37f9a79b590",
   "metadata": {},
   "outputs": [
    {
     "data": {
      "text/plain": [
       "<Axes: >"
      ]
     },
     "execution_count": 36,
     "metadata": {},
     "output_type": "execute_result"
    },
    {
     "data": {
      "image/png": "[encoded data removed]",
      "text/plain": [
       "<Figure size 640x480 with 1 Axes>"
      ]
     },
     "metadata": {},
     "output_type": "display_data"
    }
   ],
   "source": [
    "df[\"Eye colour\"].hist()"
   ]
  },
  {
   "cell_type": "code",
   "execution_count": 37,
   "id": "b3613a2f-31cd-44ff-95b4-f4306c5b4522",
   "metadata": {},
   "outputs": [
    {
     "data": {
      "text/plain": [
       "count     20.000000\n",
       "mean     112.200000\n",
       "std       23.283945\n",
       "min       59.000000\n",
       "25%      104.750000\n",
       "50%      111.750000\n",
       "75%      124.000000\n",
       "max      158.000000\n",
       "Name: Height, dtype: float64"
      ]
     },
     "execution_count": 37,
     "metadata": {},
     "output_type": "execute_result"
    }
   ],
   "source": [
    "df.Height.describe()"
   ]
  },
  {
   "cell_type": "code",
   "execution_count": 38,
   "id": "ddf36d98-8834-418e-b8ae-885cecd3a255",
   "metadata": {},
   "outputs": [
    {
     "data": {
      "text/plain": [
       "<Axes: >"
      ]
     },
     "execution_count": 38,
     "metadata": {},
     "output_type": "execute_result"
    },
    {
     "data": {
      "image/png": "[encoded data removed]",
      "text/plain": [
       "<Figure size 640x480 with 1 Axes>"
      ]
     },
     "metadata": {},
     "output_type": "display_data"
    }
   ],
   "source": [
    "df.Height.hist()"
   ]
  },
  {
   "cell_type": "markdown",
   "id": "0b0cfbd3-2828-44b2-ae86-4ca0ce6d2ab1",
   "metadata": {},
   "source": [
    "### Plotting"
   ]
  },
  {
   "cell_type": "code",
   "execution_count": 39,
   "id": "1ed17111-be98-46e7-8515-92cdefa709d0",
   "metadata": {},
   "outputs": [],
   "source": [
    "import matplotlib.pyplot as plt"
   ]
  },
  {
   "cell_type": "code",
   "execution_count": 40,
   "id": "d9c94129-5f6a-4e47-bdbd-7a65cbd62600",
   "metadata": {},
   "outputs": [
    {
     "data": {
      "text/plain": [
       "<Axes: xlabel='Age', ylabel='Height'>"
      ]
     },
     "execution_count": 40,
     "metadata": {},
     "output_type": "execute_result"
    },
    {
     "data": {
      "image/png": "[encoded data removed]",
      "text/plain": [
       "<Figure size 640x480 with 1 Axes>"
      ]
     },
     "metadata": {},
     "output_type": "display_data"
    }
   ],
   "source": [
    "df.plot.scatter(x=\"Age\", y=\"Height\")"
   ]
  },
  {
   "cell_type": "code",
   "execution_count": 41,
   "id": "413e591b-6947-4709-98ec-d78a8177a5ba",
   "metadata": {},
   "outputs": [
    {
     "data": {
      "image/png": "[encoded data removed]",
      "text/plain": [
       "<Figure size 640x480 with 1 Axes>"
      ]
     },
     "metadata": {},
     "output_type": "display_data"
    }
   ],
   "source": [
    "fig, axs = plt.subplots()\n"
   ]
  },
  {
   "cell_type": "code",
   "execution_count": null,
   "id": "0a9bbdb2-a960-4763-8f66-8768368d8821",
   "metadata": {},
   "outputs": [],
   "source": []
  }
 ],
 "metadata": {
  "kernelspec": {
   "display_name": "Python 3 (ipykernel)",
   "language": "python",
   "name": "python3"
  },
  "language_info": {
   "codemirror_mode": {
    "name": "ipython",
    "version": 3
   },
   "file_extension": ".py",
   "mimetype": "text/x-python",
   "name": "python",
   "nbconvert_exporter": "python",
   "pygments_lexer": "ipython3",
   "version": "3.13.1"
  }
 },
 "nbformat": 4,
 "nbformat_minor": 5
}
