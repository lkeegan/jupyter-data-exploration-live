{
 "cells": [
  {
   "cell_type": "markdown",
   "id": "e973cd16-5972-4b1b-8398-a6c6c2ab17de",
   "metadata": {},
   "source": [
    "# SSC jupyter pandas course\n",
    "\n",
    "- item 1\n",
    "- item 2\n",
    "\n",
    "## Subtitle\n",
    "\n",
    "### Subtitles\n",
    "\n",
    "*italic*, or **bold**\n",
    "\n",
    "$\\int_0^1f(x)dx$\n",
    "\n",
    "[link text](https://www.google.com)"
   ]
  },
  {
   "cell_type": "code",
   "execution_count": 109,
   "id": "9c12cf0e-8721-490d-8b2f-2d81f7776c42",
   "metadata": {},
   "outputs": [
    {
     "name": "stdout",
     "output_type": "stream",
     "text": [
      "hi\n"
     ]
    }
   ],
   "source": [
    "# python comments\n",
    "print(\"hi\")"
   ]
  },
  {
   "cell_type": "code",
   "execution_count": null,
   "id": "5c871ac6-0454-4d76-bee3-9c8454e57de9",
   "metadata": {},
   "outputs": [],
   "source": []
  }
 ],
 "metadata": {
  "kernelspec": {
   "display_name": "Python 3 (ipykernel)",
   "language": "python",
   "name": "python3"
  },
  "language_info": {
   "codemirror_mode": {
    "name": "ipython",
    "version": 3
   },
   "file_extension": ".py",
   "mimetype": "text/x-python",
   "name": "python",
   "nbconvert_exporter": "python",
   "pygments_lexer": "ipython3",
   "version": "3.13.1"
  }
 },
 "nbformat": 4,
 "nbformat_minor": 5
}
