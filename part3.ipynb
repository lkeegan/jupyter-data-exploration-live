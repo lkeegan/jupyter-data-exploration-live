{
 "cells": [
  {
   "cell_type": "markdown",
   "id": "34042734-8b8a-4bb6-bdcf-b8a3fd5add2b",
   "metadata": {},
   "source": [
    "### Real data"
   ]
  },
  {
   "cell_type": "code",
   "execution_count": 22,
   "id": "8af8d491-596a-4dab-a4a9-ab7cbad7a746",
   "metadata": {},
   "outputs": [],
   "source": [
    "import pandas as pd\n",
    "import matplotlib.pyplot as plt"
   ]
  },
  {
   "cell_type": "code",
   "execution_count": 23,
   "id": "19451891-7c96-4326-8c35-900d53c96e49",
   "metadata": {},
   "outputs": [],
   "source": [
    "url = \"https://data.london.gov.uk/download/animal-rescue-incidents-attended-by-lfb/01007433-55c2-4b8a-b799-626d9e3bc284/Animal%20Rescue%20incidents%20attended%20by%20LFB%20from%20Jan%202009.csv.xlsx\""
   ]
  },
  {
   "cell_type": "code",
   "execution_count": 24,
   "id": "6ad98a82-cf52-4e3d-946b-0f78dea9c105",
   "metadata": {},
   "outputs": [],
   "source": [
    "df = pd.read_excel(url)"
   ]
  },
  {
   "cell_type": "code",
   "execution_count": 27,
   "id": "8a3681b8-73bd-4814-9d00-33fce31f8b0b",
   "metadata": {},
   "outputs": [
    {
     "data": {
      "text/plain": [
       "IncidentNumber                        object\n",
       "DateTimeOfCall                datetime64[ns]\n",
       "CalYear                                int64\n",
       "FinYear                               object\n",
       "TypeOfIncident                        object\n",
       "PumpCount                            float64\n",
       "PumpHoursTotal                       float64\n",
       "HourlyNotionalCost(£)                  int64\n",
       "IncidentNotionalCost(£)              float64\n",
       "FinalDescription                      object\n",
       "AnimalGroupParent                     object\n",
       "OriginofCall                          object\n",
       "PropertyType                          object\n",
       "PropertyCategory                      object\n",
       "SpecialServiceTypeCategory            object\n",
       "SpecialServiceType                    object\n",
       "WardCode                              object\n",
       "Ward                                  object\n",
       "BoroughCode                           object\n",
       "Borough                               object\n",
       "StnGroundName                         object\n",
       "UPRN                                 float64\n",
       "Street                                object\n",
       "USRN                                 float64\n",
       "PostcodeDistrict                      object\n",
       "Easting_m                            float64\n",
       "Northing_m                           float64\n",
       "Easting_rounded                        int64\n",
       "Northing_rounded                       int64\n",
       "Latitude                             float64\n",
       "Longitude                            float64\n",
       "dtype: object"
      ]
     },
     "execution_count": 27,
     "metadata": {},
     "output_type": "execute_result"
    }
   ],
   "source": [
    "df.dtypes"
   ]
  },
  {
   "cell_type": "code",
   "execution_count": 28,
   "id": "b440a4a3-6aa4-4e97-b8b5-24564b40df33",
   "metadata": {},
   "outputs": [
    {
     "data": {
      "text/plain": [
       "0       2009-01-01 03:01:00\n",
       "1       2009-01-01 08:51:00\n",
       "2       2009-01-04 10:07:00\n",
       "3       2009-01-05 12:27:00\n",
       "4       2009-01-06 15:23:00\n",
       "                ...        \n",
       "11653   2024-12-29 11:34:00\n",
       "11654   2024-12-29 13:46:00\n",
       "11655   2024-12-30 10:53:00\n",
       "11656   2024-12-30 15:44:00\n",
       "11657   2024-12-31 17:37:00\n",
       "Name: DateTimeOfCall, Length: 11658, dtype: datetime64[ns]"
      ]
     },
     "execution_count": 28,
     "metadata": {},
     "output_type": "execute_result"
    }
   ],
   "source": [
    "df.DateTimeOfCall"
   ]
  },
  {
   "cell_type": "code",
   "execution_count": 29,
   "id": "8a26cf02-5153-4a31-862a-3482464b5890",
   "metadata": {},
   "outputs": [
    {
     "data": {
      "text/plain": [
       "<Axes: >"
      ]
     },
     "execution_count": 29,
     "metadata": {},
     "output_type": "execute_result"
    },
    {
     "data": {
      "image/png": "[encoded data removed]",
      "text/plain": [
       "<Figure size 640x480 with 1 Axes>"
      ]
     },
     "metadata": {},
     "output_type": "display_data"
    }
   ],
   "source": [
    "df.DateTimeOfCall.plot()"
   ]
  },
  {
   "cell_type": "code",
   "execution_count": 30,
   "id": "ee35ec45-3c76-478e-ad2b-307191adb972",
   "metadata": {},
   "outputs": [
    {
     "data": {
      "text/html": [
       "<div>\n",
       "<style scoped>\n",
       "    .dataframe tbody tr th:only-of-type {\n",
       "        vertical-align: middle;\n",
       "    }\n",
       "\n",
       "    .dataframe tbody tr th {\n",
       "        vertical-align: top;\n",
       "    }\n",
       "\n",
       "    .dataframe thead th {\n",
       "        text-align: right;\n",
       "    }\n",
       "</style>\n",
       "<table border=\"1\" class=\"dataframe\">\n",
       "  <thead>\n",
       "    <tr style=\"text-align: right;\">\n",
       "      <th></th>\n",
       "      <th>IncidentNumber</th>\n",
       "      <th>DateTimeOfCall</th>\n",
       "      <th>CalYear</th>\n",
       "      <th>FinYear</th>\n",
       "      <th>TypeOfIncident</th>\n",
       "      <th>PumpCount</th>\n",
       "      <th>PumpHoursTotal</th>\n",
       "      <th>HourlyNotionalCost(£)</th>\n",
       "      <th>IncidentNotionalCost(£)</th>\n",
       "      <th>FinalDescription</th>\n",
       "      <th>...</th>\n",
       "      <th>UPRN</th>\n",
       "      <th>Street</th>\n",
       "      <th>USRN</th>\n",
       "      <th>PostcodeDistrict</th>\n",
       "      <th>Easting_m</th>\n",
       "      <th>Northing_m</th>\n",
       "      <th>Easting_rounded</th>\n",
       "      <th>Northing_rounded</th>\n",
       "      <th>Latitude</th>\n",
       "      <th>Longitude</th>\n",
       "    </tr>\n",
       "  </thead>\n",
       "  <tbody>\n",
       "    <tr>\n",
       "      <th>0</th>\n",
       "      <td>139091</td>\n",
       "      <td>2009-01-01 03:01:00</td>\n",
       "      <td>2009</td>\n",
       "      <td>2008/09</td>\n",
       "      <td>Special Service</td>\n",
       "      <td>1.0</td>\n",
       "      <td>2.0</td>\n",
       "      <td>255</td>\n",
       "      <td>510.0</td>\n",
       "      <td>Redacted</td>\n",
       "      <td>...</td>\n",
       "      <td>NaN</td>\n",
       "      <td>Waddington Way</td>\n",
       "      <td>20500146.0</td>\n",
       "      <td>SE19</td>\n",
       "      <td>NaN</td>\n",
       "      <td>NaN</td>\n",
       "      <td>532350</td>\n",
       "      <td>170050</td>\n",
       "      <td>NaN</td>\n",
       "      <td>NaN</td>\n",
       "    </tr>\n",
       "    <tr>\n",
       "      <th>1</th>\n",
       "      <td>275091</td>\n",
       "      <td>2009-01-01 08:51:00</td>\n",
       "      <td>2009</td>\n",
       "      <td>2008/09</td>\n",
       "      <td>Special Service</td>\n",
       "      <td>1.0</td>\n",
       "      <td>1.0</td>\n",
       "      <td>255</td>\n",
       "      <td>255.0</td>\n",
       "      <td>Redacted</td>\n",
       "      <td>...</td>\n",
       "      <td>NaN</td>\n",
       "      <td>Grasmere Road</td>\n",
       "      <td>NaN</td>\n",
       "      <td>SE25</td>\n",
       "      <td>534785.0</td>\n",
       "      <td>167546.0</td>\n",
       "      <td>534750</td>\n",
       "      <td>167550</td>\n",
       "      <td>51.390954</td>\n",
       "      <td>-0.064167</td>\n",
       "    </tr>\n",
       "    <tr>\n",
       "      <th>2</th>\n",
       "      <td>2075091</td>\n",
       "      <td>2009-01-04 10:07:00</td>\n",
       "      <td>2009</td>\n",
       "      <td>2008/09</td>\n",
       "      <td>Special Service</td>\n",
       "      <td>1.0</td>\n",
       "      <td>1.0</td>\n",
       "      <td>255</td>\n",
       "      <td>255.0</td>\n",
       "      <td>Redacted</td>\n",
       "      <td>...</td>\n",
       "      <td>NaN</td>\n",
       "      <td>Mill Lane</td>\n",
       "      <td>NaN</td>\n",
       "      <td>SM5</td>\n",
       "      <td>528041.0</td>\n",
       "      <td>164923.0</td>\n",
       "      <td>528050</td>\n",
       "      <td>164950</td>\n",
       "      <td>51.368941</td>\n",
       "      <td>-0.161985</td>\n",
       "    </tr>\n",
       "    <tr>\n",
       "      <th>3</th>\n",
       "      <td>2872091</td>\n",
       "      <td>2009-01-05 12:27:00</td>\n",
       "      <td>2009</td>\n",
       "      <td>2008/09</td>\n",
       "      <td>Special Service</td>\n",
       "      <td>1.0</td>\n",
       "      <td>1.0</td>\n",
       "      <td>255</td>\n",
       "      <td>255.0</td>\n",
       "      <td>Redacted</td>\n",
       "      <td>...</td>\n",
       "      <td>1.000215e+11</td>\n",
       "      <td>Park Lane</td>\n",
       "      <td>21401484.0</td>\n",
       "      <td>UB9</td>\n",
       "      <td>504689.0</td>\n",
       "      <td>190685.0</td>\n",
       "      <td>504650</td>\n",
       "      <td>190650</td>\n",
       "      <td>51.605283</td>\n",
       "      <td>-0.489684</td>\n",
       "    </tr>\n",
       "    <tr>\n",
       "      <th>4</th>\n",
       "      <td>3553091</td>\n",
       "      <td>2009-01-06 15:23:00</td>\n",
       "      <td>2009</td>\n",
       "      <td>2008/09</td>\n",
       "      <td>Special Service</td>\n",
       "      <td>1.0</td>\n",
       "      <td>1.0</td>\n",
       "      <td>255</td>\n",
       "      <td>255.0</td>\n",
       "      <td>Redacted</td>\n",
       "      <td>...</td>\n",
       "      <td>NaN</td>\n",
       "      <td>Swindon Lane</td>\n",
       "      <td>21300122.0</td>\n",
       "      <td>RM3</td>\n",
       "      <td>NaN</td>\n",
       "      <td>NaN</td>\n",
       "      <td>554650</td>\n",
       "      <td>192350</td>\n",
       "      <td>NaN</td>\n",
       "      <td>NaN</td>\n",
       "    </tr>\n",
       "  </tbody>\n",
       "</table>\n",
       "<p>5 rows × 31 columns</p>\n",
       "</div>"
      ],
      "text/plain": [
       "  IncidentNumber      DateTimeOfCall  CalYear  FinYear   TypeOfIncident  \\\n",
       "0         139091 2009-01-01 03:01:00     2009  2008/09  Special Service   \n",
       "1         275091 2009-01-01 08:51:00     2009  2008/09  Special Service   \n",
       "2        2075091 2009-01-04 10:07:00     2009  2008/09  Special Service   \n",
       "3        2872091 2009-01-05 12:27:00     2009  2008/09  Special Service   \n",
       "4        3553091 2009-01-06 15:23:00     2009  2008/09  Special Service   \n",
       "\n",
       "   PumpCount  PumpHoursTotal  HourlyNotionalCost(£)  IncidentNotionalCost(£)  \\\n",
       "0        1.0             2.0                    255                    510.0   \n",
       "1        1.0             1.0                    255                    255.0   \n",
       "2        1.0             1.0                    255                    255.0   \n",
       "3        1.0             1.0                    255                    255.0   \n",
       "4        1.0             1.0                    255                    255.0   \n",
       "\n",
       "  FinalDescription  ...          UPRN          Street        USRN  \\\n",
       "0         Redacted  ...           NaN  Waddington Way  20500146.0   \n",
       "1         Redacted  ...           NaN   Grasmere Road         NaN   \n",
       "2         Redacted  ...           NaN       Mill Lane         NaN   \n",
       "3         Redacted  ...  1.000215e+11       Park Lane  21401484.0   \n",
       "4         Redacted  ...           NaN    Swindon Lane  21300122.0   \n",
       "\n",
       "  PostcodeDistrict Easting_m Northing_m Easting_rounded Northing_rounded  \\\n",
       "0             SE19       NaN        NaN          532350           170050   \n",
       "1             SE25  534785.0   167546.0          534750           167550   \n",
       "2              SM5  528041.0   164923.0          528050           164950   \n",
       "3              UB9  504689.0   190685.0          504650           190650   \n",
       "4              RM3       NaN        NaN          554650           192350   \n",
       "\n",
       "    Latitude Longitude  \n",
       "0        NaN       NaN  \n",
       "1  51.390954 -0.064167  \n",
       "2  51.368941 -0.161985  \n",
       "3  51.605283 -0.489684  \n",
       "4        NaN       NaN  \n",
       "\n",
       "[5 rows x 31 columns]"
      ]
     },
     "execution_count": 30,
     "metadata": {},
     "output_type": "execute_result"
    }
   ],
   "source": [
    "df.head()"
   ]
  },
  {
   "cell_type": "code",
   "execution_count": null,
   "id": "c5115e8f-9b65-43a1-acc5-7f1d115bdb06",
   "metadata": {},
   "outputs": [],
   "source": []
  }
 ],
 "metadata": {
  "kernelspec": {
   "display_name": "Python 3 (ipykernel)",
   "language": "python",
   "name": "python3"
  },
  "language_info": {
   "codemirror_mode": {
    "name": "ipython",
    "version": 3
   },
   "file_extension": ".py",
   "mimetype": "text/x-python",
   "name": "python",
   "nbconvert_exporter": "python",
   "pygments_lexer": "ipython3",
   "version": "3.13.1"
  }
 },
 "nbformat": 4,
 "nbformat_minor": 5
}
