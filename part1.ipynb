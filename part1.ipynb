{
 "cells": [
  {
   "cell_type": "markdown",
   "id": "e973cd16-5972-4b1b-8398-a6c6c2ab17de",
   "metadata": {},
   "source": [
    "# SSC jupyter pandas course\n",
    "\n",
    "- item 1\n",
    "- item 2\n",
    "\n",
    "## Subtitle\n",
    "\n",
    "### Subtitles\n",
    "\n",
    "*italic*, or **bold**\n",
    "\n",
    "$\\int_0^1f(x)dx$\n",
    "\n",
    "[link text](https://www.google.com)"
   ]
  },
  {
   "cell_type": "code",
   "execution_count": 109,
   "id": "9c12cf0e-8721-490d-8b2f-2d81f7776c42",
   "metadata": {},
   "outputs": [
    {
     "name": "stdout",
     "output_type": "stream",
     "text": [
      "hi\n"
     ]
    }
   ],
   "source": [
    "# python comments\n",
    "print(\"hi\")"
   ]
  },
  {
   "cell_type": "markdown",
   "id": "a4701b55-ad1c-4626-9d92-971816d7462f",
   "metadata": {},
   "source": [
    "### Variables"
   ]
  },
  {
   "cell_type": "code",
   "execution_count": 117,
   "id": "79cd7bb0-7d8a-4ece-a0f2-f1b9d044c887",
   "metadata": {},
   "outputs": [],
   "source": [
    "a = 3"
   ]
  },
  {
   "cell_type": "code",
   "execution_count": 118,
   "id": "79e42dc4-0f8c-4d23-8e55-f6bfe660d58e",
   "metadata": {},
   "outputs": [
    {
     "name": "stdout",
     "output_type": "stream",
     "text": [
      "3\n"
     ]
    }
   ],
   "source": [
    "print(a)"
   ]
  },
  {
   "cell_type": "code",
   "execution_count": 119,
   "id": "9d36fd1b-dc18-479e-ba8d-b0212b619bb5",
   "metadata": {},
   "outputs": [
    {
     "data": {
      "text/plain": [
       "int"
      ]
     },
     "execution_count": 119,
     "metadata": {},
     "output_type": "execute_result"
    }
   ],
   "source": [
    "type(a)"
   ]
  },
  {
   "cell_type": "code",
   "execution_count": 120,
   "id": "950d9edd-88ef-4181-bd1d-7ae1d4659595",
   "metadata": {},
   "outputs": [],
   "source": [
    "a = \"hi\""
   ]
  },
  {
   "cell_type": "code",
   "execution_count": 121,
   "id": "b83d0abb-fa6c-421f-a52a-0ee1567448c4",
   "metadata": {},
   "outputs": [
    {
     "name": "stdout",
     "output_type": "stream",
     "text": [
      "hi\n"
     ]
    }
   ],
   "source": [
    "print(a)"
   ]
  },
  {
   "cell_type": "code",
   "execution_count": 122,
   "id": "1465d9f7-e0a7-4897-a6ea-f7b306d7c382",
   "metadata": {},
   "outputs": [
    {
     "data": {
      "text/plain": [
       "str"
      ]
     },
     "execution_count": 122,
     "metadata": {},
     "output_type": "execute_result"
    }
   ],
   "source": [
    "type(a)"
   ]
  },
  {
   "cell_type": "code",
   "execution_count": null,
   "id": "419e7b97-b838-41a6-ac55-faff1bd6eab2",
   "metadata": {},
   "outputs": [],
   "source": []
  }
 ],
 "metadata": {
  "kernelspec": {
   "display_name": "Python 3 (ipykernel)",
   "language": "python",
   "name": "python3"
  },
  "language_info": {
   "codemirror_mode": {
    "name": "ipython",
    "version": 3
   },
   "file_extension": ".py",
   "mimetype": "text/x-python",
   "name": "python",
   "nbconvert_exporter": "python",
   "pygments_lexer": "ipython3",
   "version": "3.13.1"
  }
 },
 "nbformat": 4,
 "nbformat_minor": 5
}
