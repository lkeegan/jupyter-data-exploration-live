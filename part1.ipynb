{
 "cells": [
  {
   "cell_type": "markdown",
   "id": "e973cd16-5972-4b1b-8398-a6c6c2ab17de",
   "metadata": {},
   "source": [
    "# SSC jupyter pandas course\n",
    "\n",
    "- item 1\n",
    "- item 2\n",
    "\n",
    "## Subtitle\n",
    "\n",
    "### Subtitles\n",
    "\n",
    "*italic*, or **bold**\n",
    "\n",
    "$\\int_0^1f(x)dx$\n",
    "\n",
    "[link text](https://www.google.com)"
   ]
  },
  {
   "cell_type": "code",
   "execution_count": 109,
   "id": "9c12cf0e-8721-490d-8b2f-2d81f7776c42",
   "metadata": {},
   "outputs": [
    {
     "name": "stdout",
     "output_type": "stream",
     "text": [
      "hi\n"
     ]
    }
   ],
   "source": [
    "# python comments\n",
    "print(\"hi\")"
   ]
  },
  {
   "cell_type": "markdown",
   "id": "a4701b55-ad1c-4626-9d92-971816d7462f",
   "metadata": {},
   "source": [
    "### Variables"
   ]
  },
  {
   "cell_type": "code",
   "execution_count": 117,
   "id": "79cd7bb0-7d8a-4ece-a0f2-f1b9d044c887",
   "metadata": {},
   "outputs": [],
   "source": [
    "a = 3"
   ]
  },
  {
   "cell_type": "code",
   "execution_count": 118,
   "id": "79e42dc4-0f8c-4d23-8e55-f6bfe660d58e",
   "metadata": {},
   "outputs": [
    {
     "name": "stdout",
     "output_type": "stream",
     "text": [
      "3\n"
     ]
    }
   ],
   "source": [
    "print(a)"
   ]
  },
  {
   "cell_type": "code",
   "execution_count": 119,
   "id": "9d36fd1b-dc18-479e-ba8d-b0212b619bb5",
   "metadata": {},
   "outputs": [
    {
     "data": {
      "text/plain": [
       "int"
      ]
     },
     "execution_count": 119,
     "metadata": {},
     "output_type": "execute_result"
    }
   ],
   "source": [
    "type(a)"
   ]
  },
  {
   "cell_type": "code",
   "execution_count": 120,
   "id": "950d9edd-88ef-4181-bd1d-7ae1d4659595",
   "metadata": {},
   "outputs": [],
   "source": [
    "a = \"hi\""
   ]
  },
  {
   "cell_type": "code",
   "execution_count": 121,
   "id": "b83d0abb-fa6c-421f-a52a-0ee1567448c4",
   "metadata": {},
   "outputs": [
    {
     "name": "stdout",
     "output_type": "stream",
     "text": [
      "hi\n"
     ]
    }
   ],
   "source": [
    "print(a)"
   ]
  },
  {
   "cell_type": "code",
   "execution_count": 122,
   "id": "1465d9f7-e0a7-4897-a6ea-f7b306d7c382",
   "metadata": {},
   "outputs": [
    {
     "data": {
      "text/plain": [
       "str"
      ]
     },
     "execution_count": 122,
     "metadata": {},
     "output_type": "execute_result"
    }
   ],
   "source": [
    "type(a)"
   ]
  },
  {
   "cell_type": "markdown",
   "id": "8e566561-9e4c-4b5d-945b-24ee5bf292bc",
   "metadata": {},
   "source": [
    "### Lists"
   ]
  },
  {
   "cell_type": "code",
   "execution_count": 123,
   "id": "3dc90f32-6494-4f58-8905-368a2ebf3b43",
   "metadata": {},
   "outputs": [],
   "source": [
    "my_list = [1,3,5.55, \"asd\"]"
   ]
  },
  {
   "cell_type": "code",
   "execution_count": 124,
   "id": "1fcdcdbb-594a-4f77-a3ea-9ccf65db92bb",
   "metadata": {},
   "outputs": [
    {
     "name": "stdout",
     "output_type": "stream",
     "text": [
      "[1, 3, 5.55, 'asd']\n"
     ]
    }
   ],
   "source": [
    "print(my_list)"
   ]
  },
  {
   "cell_type": "code",
   "execution_count": 125,
   "id": "821a9ea0-7517-4111-ab2f-94b55929aae3",
   "metadata": {},
   "outputs": [
    {
     "data": {
      "text/plain": [
       "list"
      ]
     },
     "execution_count": 125,
     "metadata": {},
     "output_type": "execute_result"
    }
   ],
   "source": [
    "type(my_list)"
   ]
  },
  {
   "cell_type": "code",
   "execution_count": 126,
   "id": "125ad152-9b32-4d16-8fd2-66a20d57f9dd",
   "metadata": {},
   "outputs": [
    {
     "data": {
      "text/plain": [
       "4"
      ]
     },
     "execution_count": 126,
     "metadata": {},
     "output_type": "execute_result"
    }
   ],
   "source": [
    "len(my_list)"
   ]
  },
  {
   "cell_type": "code",
   "execution_count": 127,
   "id": "bc4430cd-5f51-440a-9f30-b20ab370f005",
   "metadata": {},
   "outputs": [
    {
     "data": {
      "text/plain": [
       "1"
      ]
     },
     "execution_count": 127,
     "metadata": {},
     "output_type": "execute_result"
    }
   ],
   "source": [
    "my_list[0]"
   ]
  },
  {
   "cell_type": "code",
   "execution_count": 128,
   "id": "8924e561-becd-465f-9a1d-dd88cd72cb73",
   "metadata": {},
   "outputs": [
    {
     "data": {
      "text/plain": [
       "'asd'"
      ]
     },
     "execution_count": 128,
     "metadata": {},
     "output_type": "execute_result"
    }
   ],
   "source": [
    "my_list[-1]"
   ]
  },
  {
   "cell_type": "code",
   "execution_count": 129,
   "id": "ca5b541b-0709-47b3-9582-ad151e2e59d6",
   "metadata": {},
   "outputs": [
    {
     "data": {
      "text/plain": [
       "[5.55, 'asd']"
      ]
     },
     "execution_count": 129,
     "metadata": {},
     "output_type": "execute_result"
    }
   ],
   "source": [
    "my_list[2:4]"
   ]
  },
  {
   "cell_type": "code",
   "execution_count": 130,
   "id": "19f788e8-b006-427f-ba5b-17991a2bc5a9",
   "metadata": {},
   "outputs": [
    {
     "data": {
      "text/plain": [
       "[1, 3]"
      ]
     },
     "execution_count": 130,
     "metadata": {},
     "output_type": "execute_result"
    }
   ],
   "source": [
    "my_list[:2]"
   ]
  },
  {
   "cell_type": "code",
   "execution_count": 131,
   "id": "16d2f0bd-d43d-457a-82be-db9ceccfc013",
   "metadata": {},
   "outputs": [
    {
     "data": {
      "text/plain": [
       "['asd']"
      ]
     },
     "execution_count": 131,
     "metadata": {},
     "output_type": "execute_result"
    }
   ],
   "source": [
    "my_list[3:]"
   ]
  },
  {
   "cell_type": "code",
   "execution_count": 132,
   "id": "67da8a07-5560-41e3-bed5-f9aaf8b443b5",
   "metadata": {},
   "outputs": [
    {
     "data": {
      "text/plain": [
       "[1, 3, 5.55, 'asd']"
      ]
     },
     "execution_count": 132,
     "metadata": {},
     "output_type": "execute_result"
    }
   ],
   "source": [
    "my_list[:]"
   ]
  },
  {
   "cell_type": "code",
   "execution_count": 138,
   "id": "c620a886-5e42-4e6d-b8b7-729ac0cd2ba3",
   "metadata": {},
   "outputs": [
    {
     "data": {
      "text/plain": [
       "[1, 5.55]"
      ]
     },
     "execution_count": 138,
     "metadata": {},
     "output_type": "execute_result"
    }
   ],
   "source": [
    "# stride: every nth element\n",
    "my_list[::2]"
   ]
  },
  {
   "cell_type": "code",
   "execution_count": 139,
   "id": "0395139c-0a74-4719-8162-e8217e669ccb",
   "metadata": {},
   "outputs": [
    {
     "data": {
      "text/plain": [
       "[1, 3, 5.55, 'asd', 4, 6]"
      ]
     },
     "execution_count": 139,
     "metadata": {},
     "output_type": "execute_result"
    }
   ],
   "source": [
    "my_list + [4,6]"
   ]
  },
  {
   "cell_type": "code",
   "execution_count": 140,
   "id": "b96f23df-0837-4f13-99a1-cb044bae7acf",
   "metadata": {},
   "outputs": [
    {
     "name": "stdout",
     "output_type": "stream",
     "text": [
      "1\n",
      "3\n",
      "5.55\n",
      "asd\n"
     ]
    }
   ],
   "source": [
    "for item in my_list:\n",
    "    print(item)"
   ]
  },
  {
   "cell_type": "markdown",
   "id": "c6fa472a-5023-49c9-b5a4-7f4ed868c137",
   "metadata": {},
   "source": [
    "### Dictionary"
   ]
  },
  {
   "cell_type": "code",
   "execution_count": 141,
   "id": "ae0e2285-f494-46a5-8b34-0cd61836aacf",
   "metadata": {},
   "outputs": [],
   "source": [
    "my_dict = {\"name\": \"Bob\", \"age\": 12}"
   ]
  },
  {
   "cell_type": "code",
   "execution_count": 142,
   "id": "9df98899-504e-484d-8d3d-22a37a8c4b66",
   "metadata": {},
   "outputs": [
    {
     "name": "stdout",
     "output_type": "stream",
     "text": [
      "{'name': 'Bob', 'age': 12}\n"
     ]
    }
   ],
   "source": [
    "print(my_dict)"
   ]
  },
  {
   "cell_type": "code",
   "execution_count": 143,
   "id": "ba8deb20-2b12-45ec-b8d8-357dc24abf83",
   "metadata": {},
   "outputs": [
    {
     "data": {
      "text/plain": [
       "dict"
      ]
     },
     "execution_count": 143,
     "metadata": {},
     "output_type": "execute_result"
    }
   ],
   "source": [
    "type(my_dict)"
   ]
  },
  {
   "cell_type": "code",
   "execution_count": 144,
   "id": "8d497484-aced-4075-a8d0-1bcdecd0bd57",
   "metadata": {},
   "outputs": [
    {
     "data": {
      "text/plain": [
       "2"
      ]
     },
     "execution_count": 144,
     "metadata": {},
     "output_type": "execute_result"
    }
   ],
   "source": [
    "len(my_dict)"
   ]
  },
  {
   "cell_type": "code",
   "execution_count": null,
   "id": "a6df4509-6b40-483e-85a3-a16fc2a4078d",
   "metadata": {},
   "outputs": [],
   "source": []
  }
 ],
 "metadata": {
  "kernelspec": {
   "display_name": "Python 3 (ipykernel)",
   "language": "python",
   "name": "python3"
  },
  "language_info": {
   "codemirror_mode": {
    "name": "ipython",
    "version": 3
   },
   "file_extension": ".py",
   "mimetype": "text/x-python",
   "name": "python",
   "nbconvert_exporter": "python",
   "pygments_lexer": "ipython3",
   "version": "3.13.1"
  }
 },
 "nbformat": 4,
 "nbformat_minor": 5
}
